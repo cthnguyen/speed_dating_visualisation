{
 "cells": [
  {
   "cell_type": "markdown",
   "metadata": {},
   "source": [
    "# <center>IGR204 Data Visualization</center>"
   ]
  },
  {
   "cell_type": "markdown",
   "metadata": {
    "heading_collapsed": true
   },
   "source": [
    "## Data Cleaning"
   ]
  },
  {
   "cell_type": "code",
   "execution_count": 56,
   "metadata": {
    "ExecuteTime": {
     "end_time": "2019-06-26T01:26:24.734485Z",
     "start_time": "2019-06-26T01:26:23.710491Z"
    },
    "hidden": true
   },
   "outputs": [],
   "source": [
    "# Imports:\n",
    "import numpy as np\n",
    "import matplotlib.pyplot as plt\n",
    "import pandas as pd\n",
    "import seaborn as sns\n",
    "import json\n",
    "from math import pi\n",
    " \n",
    "# Définition de paramètres \n",
    "pd.options.display.max_columns = 200\n",
    "pd.options.display.max_rows = 700\n",
    "sns.set()"
   ]
  },
  {
   "cell_type": "code",
   "execution_count": 2,
   "metadata": {
    "ExecuteTime": {
     "end_time": "2019-06-24T17:57:47.507631Z",
     "start_time": "2019-06-24T17:57:46.403449Z"
    },
    "hidden": true
   },
   "outputs": [],
   "source": [
    "data = pd.read_csv('data/SpeedDating.csv', encoding = 'latin-1', engine='python', sep=',')"
   ]
  },
  {
   "cell_type": "code",
   "execution_count": 3,
   "metadata": {
    "ExecuteTime": {
     "end_time": "2019-06-24T07:09:04.990455Z",
     "start_time": "2019-06-24T07:09:04.962377Z"
    },
    "hidden": true
   },
   "outputs": [],
   "source": [
    "data_women = data[data['gender'] == 0].copy()\n",
    "data_men = data[data['gender'] == 1].copy()"
   ]
  },
  {
   "cell_type": "code",
   "execution_count": 4,
   "metadata": {
    "ExecuteTime": {
     "end_time": "2019-06-24T07:09:11.202308Z",
     "start_time": "2019-06-24T07:09:11.196707Z"
    },
    "hidden": true
   },
   "outputs": [
    {
     "name": "stdout",
     "output_type": "stream",
     "text": [
      "(8378, 195)\n",
      "(4184, 195)\n",
      "(4194, 195)\n"
     ]
    }
   ],
   "source": [
    "print(data.shape)\n",
    "print(data_women.shape)\n",
    "print(data_men.shape)"
   ]
  },
  {
   "cell_type": "code",
   "execution_count": 5,
   "metadata": {
    "ExecuteTime": {
     "end_time": "2019-06-24T07:09:17.601169Z",
     "start_time": "2019-06-24T07:09:17.321325Z"
    },
    "hidden": true
   },
   "outputs": [
    {
     "data": {
      "image/png": "[encoded data removed]",
      "text/plain": [
       "<Figure size 1008x360 with 3 Axes>"
      ]
     },
     "metadata": {},
     "output_type": "display_data"
    }
   ],
   "source": [
    "plt.figure(1, figsize=(14,5))\n",
    "plt.subplot(131)\n",
    "sns.countplot(data_men['race'])\n",
    "plt.title('Nombre Observation par race')\n",
    "plt.subplot(132)\n",
    "sns.countplot(data_men['race_o'])\n",
    "plt.title('Nombre Observation par race_o')\n",
    "plt.subplot(133)\n",
    "sns.countplot(data_men['samerace'])\n",
    "plt.title('Nombre Observation par samerace')\n",
    "plt.show()"
   ]
  },
  {
   "cell_type": "markdown",
   "metadata": {},
   "source": [
    "## Création d'un dataframe avec une ligne par match"
   ]
  },
  {
   "cell_type": "code",
   "execution_count": 48,
   "metadata": {
    "ExecuteTime": {
     "end_time": "2019-06-26T04:13:25.516450Z",
     "start_time": "2019-06-26T04:13:25.230393Z"
    }
   },
   "outputs": [],
   "source": [
    "# Import data\n",
    "import pandas as pd\n",
    "import numpy as np\n",
    "import json\n",
    "df = pd.read_csv(\"data/SpeedDating.csv\", encoding=\"Latin-1\")\n",
    "df_match = df[df.match == 1].copy()\n",
    "df_match.dropna(subset=[\"race\", \"goal\", \"field_cd\",\"from\", \"career_c\", \"attr1_1\", \"sinc1_1\",  \"intel1_1\", \"fun1_1\", \"amb1_1\", \"attr5_1\", \"sinc5_1\", \"intel5_1\", \"fun5_1\", \"amb5_1\", \"attr3_1\", \"sinc3_1\", \"intel3_1\", \"fun3_1\", \"amb3_1\"], inplace=True)\n",
    "df_match.reset_index(drop=True, inplace=True)\n",
    "list_key_date = [str(int(df_match.loc[x, 'iid'])) + \"_\" + str(int(df_match.loc[x, \"pid\"])) + \"_\" + str(df_match.loc[x, \"wave\"]) if int(df_match.loc[x, \"iid\"])>int(df_match.loc[x, \"pid\"]) else str(int(df_match.loc[x, 'pid']))  + \"_\" + str(int(df_match.loc[x, \"iid\"])) + \"_\" + str(df_match.loc[x, \"wave\"]) for x in range(df_match.shape[0])]\n",
    "df_match[\"key_date\"] = list_key_date\n",
    "# Split men/women to take attributes from the two tables\n",
    "df_men = df_match[df_match.gender==1].loc[:, [\"key_date\", \"race\", \"goal\", \"field_cd\", \"from\", \"career_c\", \"attr1_1\", \"sinc1_1\",  \"intel1_1\", \"fun1_1\", \"amb1_1\", \"attr5_1\", \"sinc5_1\", \"intel5_1\", \"fun5_1\", \"amb5_1\", \"attr3_1\", \"sinc3_1\", \"intel3_1\", \"fun3_1\", \"amb3_1\"]].copy()\n",
    "df_women = df_match[df_match.gender==0].loc[:, [\"key_date\", \"race\", \"goal\", \"field_cd\", \"from\", \"career_c\", \"attr1_1\", \"sinc1_1\",  \"intel1_1\", \"fun1_1\", \"amb1_1\", \"attr5_1\", \"sinc5_1\", \"intel5_1\", \"fun5_1\", \"amb5_1\", \"attr3_1\", \"sinc3_1\", \"intel3_1\", \"fun3_1\", \"amb3_1\"]].copy()\n",
    "df_res = df_men.merge(df_women, how=\"inner\", on=\"key_date\", suffixes=('_H', '_F'))"
   ]
  },
  {
   "cell_type": "code",
   "execution_count": 49,
   "metadata": {
    "ExecuteTime": {
     "end_time": "2019-06-26T04:13:25.563206Z",
     "start_time": "2019-06-26T04:13:25.520335Z"
    }
   },
   "outputs": [],
   "source": [
    "# Process cities\n",
    "cities = set(df_res[\"from_H\"].tolist() + df_res[\"from_F\"].tolist())\n",
    "dict_from = dict(zip(cities, range(len(cities))))\n",
    "df_res[\"from_H\"] = df_res[\"from_H\"].apply(lambda x: dict_from[x])\n",
    "df_res[\"from_F\"] = df_res[\"from_F\"].apply(lambda x: dict_from[x])\n",
    "# Process all fields\n",
    "for attribute in df_res.columns[1:]:\n",
    "    df_res[attribute] = df_res[attribute].apply(lambda x: int(x))"
   ]
  },
  {
   "cell_type": "code",
   "execution_count": 50,
   "metadata": {
    "ExecuteTime": {
     "end_time": "2019-06-26T04:13:29.551991Z",
     "start_time": "2019-06-26T04:13:25.570186Z"
    }
   },
   "outputs": [],
   "source": [
    "# Normalisation des données\n",
    "list_divide_100 = [\"attr1_1_F\", \"sinc1_1_F\",  \"intel1_1_F\", \"fun1_1_F\", \"amb1_1_F\", \"attr1_1_H\", \"sinc1_1_H\",  \"intel1_1_H\", \"fun1_1_H\", \"amb1_1_H\"]\n",
    "list_divide_10 = [\"attr5_1_H\", \"sinc5_1_H\", \"intel5_1_H\", \"fun5_1_H\", \"amb5_1_H\", \"attr3_1_H\", \"sinc3_1_H\", \"intel3_1_H\", \"fun3_1_H\", \"amb3_1_H\", \"attr5_1_F\", \"sinc5_1_F\", \"intel5_1_F\", \"fun5_1_F\", \"amb5_1_F\", \"attr3_1_F\", \"sinc3_1_F\", \"intel3_1_F\", \"fun3_1_F\", \"amb3_1_F\"]\n",
    "for i in range(df_res.shape[0]):\n",
    "#     wave = int(df_res.iloc[i]['key_date'].split('_')[-1])\n",
    "    df_res.loc[i, list_divide_100] = df_res.loc[i, list_divide_100].copy()/100\n",
    "    df_res.loc[i, list_divide_10] = df_res.loc[i, list_divide_10].copy()/10"
   ]
  },
  {
   "cell_type": "code",
   "execution_count": 51,
   "metadata": {
    "ExecuteTime": {
     "end_time": "2019-06-26T04:13:29.560871Z",
     "start_time": "2019-06-26T04:13:29.554837Z"
    }
   },
   "outputs": [],
   "source": [
    "list_attributes = [\"attr1_1\", \"sinc1_1\",  \"intel1_1\", \"fun1_1\", \"amb1_1\", \"attr5_1\", \"sinc5_1\", \"intel5_1\", \"fun5_1\", \"amb5_1\", \"attr3_1\", \"sinc3_1\", \"intel3_1\", \"fun3_1\", \"amb3_1\"]\n",
    "list_attributes_H = [x+\"_H\" for x in list_attributes]\n",
    "list_attributes_F = [x+\"_F\" for x in list_attributes]\n",
    "list_attributes = list_attributes_H + list_attributes_F"
   ]
  },
  {
   "cell_type": "code",
   "execution_count": 52,
   "metadata": {
    "ExecuteTime": {
     "end_time": "2019-06-26T04:13:29.604138Z",
     "start_time": "2019-06-26T04:13:29.562815Z"
    }
   },
   "outputs": [
    {
     "data": {
      "text/html": [
       "<div>\n",
       "<style scoped>\n",
       "    .dataframe tbody tr th:only-of-type {\n",
       "        vertical-align: middle;\n",
       "    }\n",
       "\n",
       "    .dataframe tbody tr th {\n",
       "        vertical-align: top;\n",
       "    }\n",
       "\n",
       "    .dataframe thead th {\n",
       "        text-align: right;\n",
       "    }\n",
       "</style>\n",
       "<table border=\"1\" class=\"dataframe\">\n",
       "  <thead>\n",
       "    <tr style=\"text-align: right;\">\n",
       "      <th></th>\n",
       "      <th>key_date</th>\n",
       "      <th>race_H</th>\n",
       "      <th>goal_H</th>\n",
       "      <th>field_cd_H</th>\n",
       "      <th>from_H</th>\n",
       "      <th>career_c_H</th>\n",
       "      <th>attr1_1_H</th>\n",
       "      <th>sinc1_1_H</th>\n",
       "      <th>intel1_1_H</th>\n",
       "      <th>fun1_1_H</th>\n",
       "      <th>...</th>\n",
       "      <th>attr5_1_F</th>\n",
       "      <th>sinc5_1_F</th>\n",
       "      <th>intel5_1_F</th>\n",
       "      <th>fun5_1_F</th>\n",
       "      <th>amb5_1_F</th>\n",
       "      <th>attr3_1_F</th>\n",
       "      <th>sinc3_1_F</th>\n",
       "      <th>intel3_1_F</th>\n",
       "      <th>fun3_1_F</th>\n",
       "      <th>amb3_1_F</th>\n",
       "    </tr>\n",
       "  </thead>\n",
       "  <tbody>\n",
       "    <tr>\n",
       "      <th>0</th>\n",
       "      <td>243_235_10</td>\n",
       "      <td>2</td>\n",
       "      <td>2</td>\n",
       "      <td>16</td>\n",
       "      <td>115</td>\n",
       "      <td>2</td>\n",
       "      <td>0.20</td>\n",
       "      <td>0.2</td>\n",
       "      <td>0.2</td>\n",
       "      <td>0.25</td>\n",
       "      <td>...</td>\n",
       "      <td>0.6</td>\n",
       "      <td>0.9</td>\n",
       "      <td>0.9</td>\n",
       "      <td>0.9</td>\n",
       "      <td>0.9</td>\n",
       "      <td>0.6</td>\n",
       "      <td>0.9</td>\n",
       "      <td>0.8</td>\n",
       "      <td>0.9</td>\n",
       "      <td>0.9</td>\n",
       "    </tr>\n",
       "    <tr>\n",
       "      <th>1</th>\n",
       "      <td>243_241_10</td>\n",
       "      <td>2</td>\n",
       "      <td>2</td>\n",
       "      <td>16</td>\n",
       "      <td>115</td>\n",
       "      <td>2</td>\n",
       "      <td>0.20</td>\n",
       "      <td>0.2</td>\n",
       "      <td>0.2</td>\n",
       "      <td>0.25</td>\n",
       "      <td>...</td>\n",
       "      <td>0.8</td>\n",
       "      <td>1.0</td>\n",
       "      <td>0.8</td>\n",
       "      <td>0.8</td>\n",
       "      <td>0.8</td>\n",
       "      <td>0.8</td>\n",
       "      <td>1.0</td>\n",
       "      <td>0.8</td>\n",
       "      <td>0.8</td>\n",
       "      <td>0.8</td>\n",
       "    </tr>\n",
       "    <tr>\n",
       "      <th>2</th>\n",
       "      <td>243_242_10</td>\n",
       "      <td>2</td>\n",
       "      <td>2</td>\n",
       "      <td>16</td>\n",
       "      <td>115</td>\n",
       "      <td>2</td>\n",
       "      <td>0.20</td>\n",
       "      <td>0.2</td>\n",
       "      <td>0.2</td>\n",
       "      <td>0.25</td>\n",
       "      <td>...</td>\n",
       "      <td>0.7</td>\n",
       "      <td>0.9</td>\n",
       "      <td>0.8</td>\n",
       "      <td>0.7</td>\n",
       "      <td>0.8</td>\n",
       "      <td>0.7</td>\n",
       "      <td>0.9</td>\n",
       "      <td>0.8</td>\n",
       "      <td>0.7</td>\n",
       "      <td>0.4</td>\n",
       "    </tr>\n",
       "    <tr>\n",
       "      <th>3</th>\n",
       "      <td>244_238_10</td>\n",
       "      <td>2</td>\n",
       "      <td>2</td>\n",
       "      <td>8</td>\n",
       "      <td>19</td>\n",
       "      <td>7</td>\n",
       "      <td>0.20</td>\n",
       "      <td>0.2</td>\n",
       "      <td>0.2</td>\n",
       "      <td>0.10</td>\n",
       "      <td>...</td>\n",
       "      <td>0.9</td>\n",
       "      <td>0.9</td>\n",
       "      <td>0.9</td>\n",
       "      <td>0.9</td>\n",
       "      <td>0.9</td>\n",
       "      <td>1.0</td>\n",
       "      <td>0.9</td>\n",
       "      <td>0.9</td>\n",
       "      <td>1.0</td>\n",
       "      <td>0.8</td>\n",
       "    </tr>\n",
       "    <tr>\n",
       "      <th>4</th>\n",
       "      <td>245_239_10</td>\n",
       "      <td>2</td>\n",
       "      <td>4</td>\n",
       "      <td>7</td>\n",
       "      <td>80</td>\n",
       "      <td>1</td>\n",
       "      <td>0.18</td>\n",
       "      <td>0.1</td>\n",
       "      <td>0.3</td>\n",
       "      <td>0.10</td>\n",
       "      <td>...</td>\n",
       "      <td>0.7</td>\n",
       "      <td>1.0</td>\n",
       "      <td>0.8</td>\n",
       "      <td>0.7</td>\n",
       "      <td>0.7</td>\n",
       "      <td>0.7</td>\n",
       "      <td>0.9</td>\n",
       "      <td>0.9</td>\n",
       "      <td>0.7</td>\n",
       "      <td>0.4</td>\n",
       "    </tr>\n",
       "  </tbody>\n",
       "</table>\n",
       "<p>5 rows × 41 columns</p>\n",
       "</div>"
      ],
      "text/plain": [
       "     key_date  race_H  goal_H  field_cd_H  from_H  career_c_H  attr1_1_H  \\\n",
       "0  243_235_10       2       2          16     115           2       0.20   \n",
       "1  243_241_10       2       2          16     115           2       0.20   \n",
       "2  243_242_10       2       2          16     115           2       0.20   \n",
       "3  244_238_10       2       2           8      19           7       0.20   \n",
       "4  245_239_10       2       4           7      80           1       0.18   \n",
       "\n",
       "   sinc1_1_H  intel1_1_H  fun1_1_H    ...     attr5_1_F  sinc5_1_F  \\\n",
       "0        0.2         0.2      0.25    ...           0.6        0.9   \n",
       "1        0.2         0.2      0.25    ...           0.8        1.0   \n",
       "2        0.2         0.2      0.25    ...           0.7        0.9   \n",
       "3        0.2         0.2      0.10    ...           0.9        0.9   \n",
       "4        0.1         0.3      0.10    ...           0.7        1.0   \n",
       "\n",
       "   intel5_1_F  fun5_1_F  amb5_1_F  attr3_1_F  sinc3_1_F  intel3_1_F  fun3_1_F  \\\n",
       "0         0.9       0.9       0.9        0.6        0.9         0.8       0.9   \n",
       "1         0.8       0.8       0.8        0.8        1.0         0.8       0.8   \n",
       "2         0.8       0.7       0.8        0.7        0.9         0.8       0.7   \n",
       "3         0.9       0.9       0.9        1.0        0.9         0.9       1.0   \n",
       "4         0.8       0.7       0.7        0.7        0.9         0.9       0.7   \n",
       "\n",
       "   amb3_1_F  \n",
       "0       0.9  \n",
       "1       0.8  \n",
       "2       0.4  \n",
       "3       0.8  \n",
       "4       0.4  \n",
       "\n",
       "[5 rows x 41 columns]"
      ]
     },
     "execution_count": 52,
     "metadata": {},
     "output_type": "execute_result"
    }
   ],
   "source": [
    "df_res.head()"
   ]
  },
  {
   "cell_type": "code",
   "execution_count": 59,
   "metadata": {
    "ExecuteTime": {
     "end_time": "2019-06-26T04:19:21.699408Z",
     "start_time": "2019-06-26T04:19:21.685487Z"
    }
   },
   "outputs": [],
   "source": [
    "def get_data_radar_row(dict_temp):\n",
    "        # START\n",
    "        expected_source = { 'Attractive': dict_temp[\"attr1_1_F\"],\n",
    "                    'Sincere': dict_temp[\"sinc1_1_F\"],\n",
    "                    'Intelligent':dict_temp[\"intel1_1_F\"],\n",
    "                    'Fun': dict_temp[\"fun1_1_F\"],\n",
    "                    'Ambitious': dict_temp[\"amb1_1_F\"]}\n",
    "        perceive_source = { 'Attractive':dict_temp[\"attr5_1_H\"],\n",
    "                    'Sincere':dict_temp[\"sinc5_1_H\"],\n",
    "                    'Intelligent':dict_temp[\"intel5_1_H\"],\n",
    "                    'Fun':dict_temp[\"fun5_1_H\"],\n",
    "                    'Ambitious':dict_temp[\"amb5_1_H\"]}\n",
    "        ownView_source = { 'Attractive':dict_temp[\"attr3_1_H\"],\n",
    "                    'Sincere':dict_temp[\"sinc3_1_H\"],\n",
    "                    'Intelligent':dict_temp[\"intel3_1_H\"],\n",
    "                    'Fun':dict_temp[\"fun3_1_H\"],\n",
    "                    'Ambitious':dict_temp[\"amb3_1_H\"]}\n",
    "        # TARGET\n",
    "        expected_target = { 'Attractive': dict_temp[\"attr1_1_H\"],\n",
    "                        'Sincere': dict_temp[\"sinc1_1_H\"],\n",
    "                        'Intelligent':dict_temp[\"intel1_1_H\"],\n",
    "                        'Fun': dict_temp[\"fun1_1_H\"],\n",
    "                        'Ambitious': dict_temp[\"amb1_1_H\"]}\n",
    "        perceive_target = { 'Attractive':dict_temp[\"attr5_1_F\"],\n",
    "                        'Sincere':dict_temp[\"sinc5_1_F\"],\n",
    "                        'Intelligent':dict_temp[\"intel5_1_F\"],\n",
    "                        'Fun':dict_temp[\"fun5_1_F\"],\n",
    "                        'Ambitious':dict_temp[\"amb5_1_F\"]}\n",
    "        ownView_target = { 'Attractive':dict_temp[\"attr3_1_F\"],\n",
    "                        'Sincere':dict_temp[\"sinc3_1_F\"],\n",
    "                        'Intelligent':dict_temp[\"intel3_1_F\"],\n",
    "                        'Fun':dict_temp[\"fun3_1_F\"],\n",
    "                        'Ambitious':dict_temp[\"amb3_1_F\"]}\n",
    "        list_expected_source = []\n",
    "        list_perceive_source = []\n",
    "        list_ownView_source = []\n",
    "        \n",
    "        list_expected_target = []\n",
    "        list_perceive_target = []\n",
    "        list_ownView_target = []\n",
    "        \n",
    "        for i in expected_source.keys():\n",
    "            list_expected_source.append({\"axis\": i, \"value\": expected_source[i], \"opinion\": \"test\"})\n",
    "            list_perceive_source.append({\"axis\": i, \"value\": perceive_source[i], \"opinion\" : \"test\"})\n",
    "            list_ownView_source.append({\"axis\": i, \"value\": ownView_source[i], \"opinion\" : \"test\"})\n",
    "            \n",
    "            list_expected_target.append({\"axis\": i, \"value\": expected_target[i], \"opinion\" : \"test1\"})\n",
    "            list_perceive_target.append({\"axis\": i, \"value\": perceive_target[i], \"opinion\" : \"test2\"})\n",
    "            list_ownView_target.append({\"axis\": i, \"value\": ownView_target[i], \"opinion\" : \"test3\"})\n",
    "        \n",
    "        res = {}\n",
    "        source = {\"expected\" : list_expected_source, \"perceive\" : list_perceive_source, \"ownView\" : list_ownView_source}\n",
    "        target = {\"expected\" : list_expected_target, \"perceive\" : list_perceive_target, \"ownView\" : list_ownView_target}\n",
    "        \n",
    "        res[\"source\"] = source\n",
    "        res[\"target\"] = target\n",
    "        \n",
    "        return res"
   ]
  },
  {
   "cell_type": "code",
   "execution_count": 62,
   "metadata": {
    "ExecuteTime": {
     "end_time": "2019-06-26T04:20:16.331880Z",
     "start_time": "2019-06-26T04:20:15.674285Z"
    }
   },
   "outputs": [],
   "source": [
    "dict_global = {}\n",
    "for attribute_H in [\"race\", \"goal\", \"field_cd\",\"from\", \"career_c\"]:\n",
    "    for attribute_F in [\"race\", \"goal\", \"field_cd\",\"from\", \"career_c\"]:\n",
    "        df_attributes = df_res.groupby([attribute_H+\"_H\", attribute_F+\"_F\"]).mean().loc[:, list_attributes]\n",
    "        dict_comparison = {}\n",
    "        for i in range(df_attributes.shape[0]):\n",
    "            dict_temp = {}\n",
    "            df_temp = df_attributes.iloc[i,:]\n",
    "            dict_temp = dict(zip(df_temp.index, df_temp.values))\n",
    "            dict_comparison[str(df_temp.name[0])+\"_\"+str(df_temp.name[1])] = get_data_radar_row(dict_temp)\n",
    "        dict_global[attribute_H+'_'+attribute_F] = dict_comparison"
   ]
  },
  {
   "cell_type": "code",
   "execution_count": 63,
   "metadata": {
    "ExecuteTime": {
     "end_time": "2019-06-26T04:20:17.445949Z",
     "start_time": "2019-06-26T04:20:16.334785Z"
    }
   },
   "outputs": [],
   "source": [
    "with open(\"data_radar_legend.json\", 'w', encoding='utf-8') as outfile:\n",
    "        json.dump(dict_global, outfile)"
   ]
  },
  {
   "cell_type": "code",
   "execution_count": null,
   "metadata": {},
   "outputs": [],
   "source": []
  }
 ],
 "metadata": {
  "kernelspec": {
   "display_name": "Python 3",
   "language": "python",
   "name": "python3"
  },
  "language_info": {
   "codemirror_mode": {
    "name": "ipython",
    "version": 3
   },
   "file_extension": ".py",
   "mimetype": "text/x-python",
   "name": "python",
   "nbconvert_exporter": "python",
   "pygments_lexer": "ipython3",
   "version": "3.6.7"
  },
  "toc": {
   "base_numbering": 1,
   "nav_menu": {},
   "number_sections": true,
   "sideBar": true,
   "skip_h1_title": true,
   "title_cell": "Table of Contents",
   "title_sidebar": "Contents",
   "toc_cell": false,
   "toc_position": {
    "height": "calc(100% - 180px)",
    "left": "10px",
    "top": "150px",
    "width": "165px"
   },
   "toc_section_display": true,
   "toc_window_display": false
  },
  "varInspector": {
   "cols": {
    "lenName": 16,
    "lenType": 16,
    "lenVar": 40
   },
   "kernels_config": {
    "python": {
     "delete_cmd_postfix": "",
     "delete_cmd_prefix": "del ",
     "library": "var_list.py",
     "varRefreshCmd": "print(var_dic_list())"
    },
    "r": {
     "delete_cmd_postfix": ") ",
     "delete_cmd_prefix": "rm(",
     "library": "var_list.r",
     "varRefreshCmd": "cat(var_dic_list()) "
    }
   },
   "types_to_exclude": [
    "module",
    "function",
    "builtin_function_or_method",
    "instance",
    "_Feature"
   ],
   "window_display": false
  }
 },
 "nbformat": 4,
 "nbformat_minor": 2
}
