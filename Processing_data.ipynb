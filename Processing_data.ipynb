{
 "cells": [
  {
   "cell_type": "code",
   "execution_count": 9,
   "metadata": {
    "ExecuteTime": {
     "end_time": "2019-06-22T12:45:42.927837Z",
     "start_time": "2019-06-22T12:45:42.922850Z"
    }
   },
   "outputs": [],
   "source": [
    "import pandas as pd\n",
    "import matplotlib.pyplot as plt\n",
    "import seaborn as sns\n",
    "import json\n",
    "pd.options.display.max_columns = 200"
   ]
  },
  {
   "cell_type": "code",
   "execution_count": 10,
   "metadata": {
    "ExecuteTime": {
     "end_time": "2019-06-22T12:45:43.409544Z",
     "start_time": "2019-06-22T12:45:43.097341Z"
    }
   },
   "outputs": [],
   "source": [
    "# Import data\n",
    "df = pd.read_csv(\"data/SpeedDating.csv\", encoding=\"Latin-1\")\n",
    "df_match = df[df.match == 1].copy()\n",
    "df_match.dropna(subset=[\"race\", \"goal\", \"field_cd\", \"from\", \"career_c\"], inplace=True)\n",
    "df_match.reset_index(drop=True, inplace=True)\n",
    "list_key_date = [str(int(df_match.loc[x, 'iid'])) + \"_\" + str(int(df_match.loc[x, \"pid\"])) + \"_\" + str(df_match.loc[x, \"wave\"]) if int(df_match.loc[x, \"iid\"])>int(df_match.loc[x, \"pid\"]) else str(int(df_match.loc[x, 'pid']))  + \"_\" + str(int(df_match.loc[x, \"iid\"])) + \"_\" + str(df_match.loc[x, \"wave\"]) for x in range(df_match.shape[0])]\n",
    "df_match[\"key_date\"] = list_key_date\n",
    "# Split men/women to take attributes from the two tables\n",
    "df_men = df_match[df_match.gender==1].loc[:, [\"key_date\", \"race\", \"goal\", \"field_cd\", \"from\", \"career_c\"]].copy()\n",
    "df_women = df_match[df_match.gender==0].loc[:, [\"key_date\", \"race\", \"goal\", \"field_cd\", \"from\", \"career_c\"]].copy()\n",
    "df_res = df_men.merge(df_women, how=\"inner\", on=\"key_date\", suffixes=('_H', '_F'))"
   ]
  },
  {
   "cell_type": "code",
   "execution_count": 11,
   "metadata": {
    "ExecuteTime": {
     "end_time": "2019-06-22T12:45:43.435480Z",
     "start_time": "2019-06-22T12:45:43.412500Z"
    }
   },
   "outputs": [],
   "source": [
    "# Process cities\n",
    "cities = set(df_res[\"from_H\"].tolist() + df_res[\"from_F\"].tolist())\n",
    "dict_from = dict(zip(cities, range(len(cities))))\n",
    "df_res[\"from_H\"] = df_res[\"from_H\"].apply(lambda x: dict_from[x])\n",
    "df_res[\"from_F\"] = df_res[\"from_F\"].apply(lambda x: dict_from[x])\n",
    "# Process all fields\n",
    "for attribute in df_res.columns[1:]:\n",
    "    df_res[attribute] = df_res[attribute].apply(lambda x: int(x))"
   ]
  },
  {
   "cell_type": "code",
   "execution_count": 12,
   "metadata": {
    "ExecuteTime": {
     "end_time": "2019-06-22T12:45:43.760968Z",
     "start_time": "2019-06-22T12:45:43.749000Z"
    }
   },
   "outputs": [
    {
     "data": {
      "text/html": [
       "<div>\n",
       "<style scoped>\n",
       "    .dataframe tbody tr th:only-of-type {\n",
       "        vertical-align: middle;\n",
       "    }\n",
       "\n",
       "    .dataframe tbody tr th {\n",
       "        vertical-align: top;\n",
       "    }\n",
       "\n",
       "    .dataframe thead th {\n",
       "        text-align: right;\n",
       "    }\n",
       "</style>\n",
       "<table border=\"1\" class=\"dataframe\">\n",
       "  <thead>\n",
       "    <tr style=\"text-align: right;\">\n",
       "      <th></th>\n",
       "      <th>key_date</th>\n",
       "      <th>race_H</th>\n",
       "      <th>goal_H</th>\n",
       "      <th>field_cd_H</th>\n",
       "      <th>from_H</th>\n",
       "      <th>career_c_H</th>\n",
       "      <th>race_F</th>\n",
       "      <th>goal_F</th>\n",
       "      <th>field_cd_F</th>\n",
       "      <th>from_F</th>\n",
       "      <th>career_c_F</th>\n",
       "    </tr>\n",
       "  </thead>\n",
       "  <tbody>\n",
       "    <tr>\n",
       "      <th>0</th>\n",
       "      <td>12_8_1</td>\n",
       "      <td>2</td>\n",
       "      <td>1</td>\n",
       "      <td>1</td>\n",
       "      <td>177</td>\n",
       "      <td>1</td>\n",
       "      <td>2</td>\n",
       "      <td>1</td>\n",
       "      <td>13</td>\n",
       "      <td>18</td>\n",
       "      <td>6</td>\n",
       "    </tr>\n",
       "    <tr>\n",
       "      <th>1</th>\n",
       "      <td>12_9_1</td>\n",
       "      <td>2</td>\n",
       "      <td>1</td>\n",
       "      <td>1</td>\n",
       "      <td>177</td>\n",
       "      <td>1</td>\n",
       "      <td>6</td>\n",
       "      <td>1</td>\n",
       "      <td>13</td>\n",
       "      <td>129</td>\n",
       "      <td>9</td>\n",
       "    </tr>\n",
       "    <tr>\n",
       "      <th>2</th>\n",
       "      <td>13_8_1</td>\n",
       "      <td>4</td>\n",
       "      <td>2</td>\n",
       "      <td>1</td>\n",
       "      <td>29</td>\n",
       "      <td>1</td>\n",
       "      <td>2</td>\n",
       "      <td>1</td>\n",
       "      <td>13</td>\n",
       "      <td>18</td>\n",
       "      <td>6</td>\n",
       "    </tr>\n",
       "    <tr>\n",
       "      <th>3</th>\n",
       "      <td>13_9_1</td>\n",
       "      <td>4</td>\n",
       "      <td>2</td>\n",
       "      <td>1</td>\n",
       "      <td>29</td>\n",
       "      <td>1</td>\n",
       "      <td>6</td>\n",
       "      <td>1</td>\n",
       "      <td>13</td>\n",
       "      <td>129</td>\n",
       "      <td>9</td>\n",
       "    </tr>\n",
       "    <tr>\n",
       "      <th>4</th>\n",
       "      <td>13_10_1</td>\n",
       "      <td>4</td>\n",
       "      <td>2</td>\n",
       "      <td>1</td>\n",
       "      <td>29</td>\n",
       "      <td>1</td>\n",
       "      <td>2</td>\n",
       "      <td>2</td>\n",
       "      <td>13</td>\n",
       "      <td>172</td>\n",
       "      <td>9</td>\n",
       "    </tr>\n",
       "  </tbody>\n",
       "</table>\n",
       "</div>"
      ],
      "text/plain": [
       "  key_date  race_H  goal_H  field_cd_H  from_H  career_c_H  race_F  goal_F  \\\n",
       "0   12_8_1       2       1           1     177           1       2       1   \n",
       "1   12_9_1       2       1           1     177           1       6       1   \n",
       "2   13_8_1       4       2           1      29           1       2       1   \n",
       "3   13_9_1       4       2           1      29           1       6       1   \n",
       "4  13_10_1       4       2           1      29           1       2       2   \n",
       "\n",
       "   field_cd_F  from_F  career_c_F  \n",
       "0          13      18           6  \n",
       "1          13     129           9  \n",
       "2          13      18           6  \n",
       "3          13     129           9  \n",
       "4          13     172           9  "
      ]
     },
     "execution_count": 12,
     "metadata": {},
     "output_type": "execute_result"
    }
   ],
   "source": [
    "df_res.head(5)"
   ]
  },
  {
   "cell_type": "code",
   "execution_count": 13,
   "metadata": {
    "ExecuteTime": {
     "end_time": "2019-06-22T12:45:44.219237Z",
     "start_time": "2019-06-22T12:45:44.210288Z"
    }
   },
   "outputs": [],
   "source": [
    "# List of dicts\n",
    "dico_from = dict(zip(dict_from.values(), dict_from.keys()))\n",
    "dico_race = {1 : \"Black/African American\",\n",
    "             2 : \"European/Caucasian-American\",\n",
    "             3 : \"Latino/Hispanic American\",\n",
    "             4 : \"Asian/Pacific Islander/Asian-American\",\n",
    "             5 : \"Native American\",\n",
    "             6 : \"Other\"}\n",
    "dico_career = {1 : 'Lawyer',\n",
    "            2: 'Academic/Research',\n",
    "            3: 'Psychologist',\n",
    "            4: 'Doctor/Medicine',\n",
    "            5: 'Engineer',\n",
    "            6: 'Creative Arts/Entertainment',\n",
    "            7: 'Banking/Consulting/Finance/Marketing/Business/CEO/Entrepreneur/Admin',\n",
    "            8: 'Real Estate',\n",
    "            9: 'International/Humanitarian Affairs',\n",
    "            10: 'Undecided',\n",
    "            11:'Social Work',\n",
    "            12:'Speech Pathology',\n",
    "            13:'Politics',\n",
    "            14:'Pro sports/Athletics',\n",
    "            15:'Other',\n",
    "            16:'Journalism',\n",
    "            17:'Architecture'}\n",
    "dico_goal = {1 : \"Seemed like a fun night out\",\n",
    "             2 : \"To meet new people\",\n",
    "             3 : \"To get a date\",\n",
    "             4 : \"Looking for a serious relationship\",\n",
    "             5 : \"To say I did it\",\n",
    "             6 : \"Other\"}\n",
    "dico_field = {1: 'Law',\n",
    "            2: 'Math',\n",
    "            3: 'Social Science, Psychologist',\n",
    "            4: 'Medical Science, Pharmaceuticals, and Bio Tech',\n",
    "            5: 'Engineering',\n",
    "            6: 'English/Creative Writing/ Journalism',\n",
    "            7: 'History/Religion/Philosophy',\n",
    "            8: 'Business/Econ/Finance',\n",
    "            9: 'Education, Academia',\n",
    "            10: 'Biological Sciences/Chemistry/Physics',\n",
    "            11: 'Social Work',\n",
    "            12: 'Undergrad/undecided',\n",
    "            13:'Political Science/International Affairs',\n",
    "            14:'Film',\n",
    "            15:'Fine Arts/Arts Administration',\n",
    "            16:'Languages',\n",
    "            17:'Architecture',\n",
    "            18:'Other'}\n",
    "dico_global = {\"race\": dico_race, \"goal\": dico_goal, \"field_cd\": dico_field, \"from\": dico_from, \"career_c\": dico_career}"
   ]
  },
  {
   "cell_type": "code",
   "execution_count": 14,
   "metadata": {
    "ExecuteTime": {
     "end_time": "2019-06-22T12:45:45.497600Z",
     "start_time": "2019-06-22T12:45:45.487627Z"
    }
   },
   "outputs": [],
   "source": [
    "def initialize_data(attribute_H, attribute_F, df=df_res, dico=dico_global):\n",
    "    \n",
    "    df_attribute = df.groupby([attribute_H + \"_H\", attribute_F + \"_F\"]).count()\n",
    "    # INITIALIZATION\n",
    "    dico_nodes_H = {}\n",
    "    dico_nodes_F = {}\n",
    "    for i, node in enumerate(df_attribute.index.levels[0].tolist()):\n",
    "        dico_nodes_H[node] = i\n",
    "    offset = len(dico_nodes_H.keys())\n",
    "    for i, node in enumerate(df_attribute.index.levels[1].tolist()):\n",
    "        dico_nodes_F[node] = i + offset\n",
    "    # NODES\n",
    "    nodes = []\n",
    "    dico_code_to_name_H = dico_global[attribute_H]\n",
    "    dico_code_to_name_F = dico_global[attribute_F]\n",
    "    for node in dico_nodes_H.keys():\n",
    "        nodes.append({\"node\":dico_nodes_H[node], \"name\":dico_code_to_name_H[node]})\n",
    "    for node in dico_nodes_F.keys():\n",
    "        nodes.append({\"node\":dico_nodes_F[node], \"name\":dico_code_to_name_F[node]})\n",
    "    # LINKS\n",
    "    list_links = df_attribute.index.values\n",
    "    links = []\n",
    "    for i, link in enumerate(list_links):\n",
    "        links.append({\"source\":dico_nodes_H[link[0]], \"target\":dico_nodes_F[link[1]], \"value\": int(df_attribute.iloc[i,0])})\n",
    "    return nodes, links"
   ]
  },
  {
   "cell_type": "code",
   "execution_count": 15,
   "metadata": {
    "ExecuteTime": {
     "end_time": "2019-06-22T12:45:47.769061Z",
     "start_time": "2019-06-22T12:45:47.759078Z"
    }
   },
   "outputs": [],
   "source": [
    "nodes, links = initialize_data('career_c', 'career_c')"
   ]
  },
  {
   "cell_type": "code",
   "execution_count": 16,
   "metadata": {
    "ExecuteTime": {
     "end_time": "2019-06-22T12:45:48.063265Z",
     "start_time": "2019-06-22T12:45:48.055246Z"
    }
   },
   "outputs": [],
   "source": [
    "with open('data/data_sankey.json', 'w') as json_file:\n",
    "    json.dump({\"nodes\" : nodes, \"links\" : links}, json_file)"
   ]
  },
  {
   "cell_type": "code",
   "execution_count": null,
   "metadata": {},
   "outputs": [],
   "source": []
  }
 ],
 "metadata": {
  "kernelspec": {
   "display_name": "Python 3",
   "language": "python",
   "name": "python3"
  },
  "language_info": {
   "codemirror_mode": {
    "name": "ipython",
    "version": 3
   },
   "file_extension": ".py",
   "mimetype": "text/x-python",
   "name": "python",
   "nbconvert_exporter": "python",
   "pygments_lexer": "ipython3",
   "version": "3.6.7"
  },
  "toc": {
   "base_numbering": 1,
   "nav_menu": {},
   "number_sections": true,
   "sideBar": true,
   "skip_h1_title": true,
   "title_cell": "Table of Contents",
   "title_sidebar": "Contents",
   "toc_cell": false,
   "toc_position": {
    "height": "calc(100% - 180px)",
    "left": "10px",
    "top": "150px",
    "width": "165px"
   },
   "toc_section_display": true,
   "toc_window_display": true
  }
 },
 "nbformat": 4,
 "nbformat_minor": 2
}
